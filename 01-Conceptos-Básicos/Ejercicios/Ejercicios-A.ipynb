{
 "cells": [
  {
   "attachments": {},
   "cell_type": "markdown",
   "metadata": {},
   "source": [
    "### Ejercicio 1A\n",
    "\n",
    "Escribe una función para calcular el consumo medio de combustible de un vehículo.\n",
    "\n",
    "Entrada de datos: \n",
    "* Kilometros recorridos\n",
    "* Listros de combustible consumidos\n",
    "\n",
    "Salida de datos:\n",
    "* litros consumidos por kilimetro"
   ]
  },
  {
   "cell_type": "code",
   "execution_count": null,
   "metadata": {},
   "outputs": [],
   "source": [
    "# Ejercicio 1A"
   ]
  },
  {
   "attachments": {},
   "cell_type": "markdown",
   "metadata": {},
   "source": [
    "### Ejercicio 2A\n",
    "\n",
    "Escribir funciones para tranformar grados Celsius en Fahrenheit y viciversa.\n",
    "\n",
    "Formulas:   Celsius = (5 ÷ 9) x (Fahrenheit - 32)\n",
    "            Fahrenheit = (Celsius x (9 ÷ 5)) + 32\n",
    "\n",
    "Entrada de datos:\n",
    "* Grados Celsius/Fahrenheit\n",
    "\n",
    "Salida de datos:\n",
    "* Grados transformados"
   ]
  },
  {
   "cell_type": "code",
   "execution_count": null,
   "metadata": {},
   "outputs": [],
   "source": [
    "# Ejercicio 2A"
   ]
  },
  {
   "attachments": {},
   "cell_type": "markdown",
   "metadata": {},
   "source": [
    "### Ejercicio 3A\n",
    "\n",
    "Escribe una función que calcule los impuesto a pagar depediendo el salario.\n",
    "\n",
    "Tabla:      Menos de 10.000              5%\n",
    "            Entre 10.000 y 20.000       15%\n",
    "            Entre 20.000 y 35.000       20%\n",
    "            Entre 35.000 y 60.000       30%\n",
    "            Más de 60.000               45%\n",
    "\n",
    "            En concepto de desempleo     4%\n",
    "            En concepto de formación   1,2%\n",
    "\n",
    "\n",
    "Entrada de datos:\n",
    "* Salario\n",
    "\n",
    "Salida de datos:\n",
    "* Datos desglosados"
   ]
  },
  {
   "cell_type": "code",
   "execution_count": null,
   "metadata": {},
   "outputs": [],
   "source": [
    "# Ejercicio 3A"
   ]
  },
  {
   "attachments": {},
   "cell_type": "markdown",
   "metadata": {},
   "source": [
    "### Ejercicio 4A\n",
    "\n",
    "Escribe una función que cuente las vocales de una frase.\n",
    "\n",
    "Entrada de datos:\n",
    "* Una frase\n",
    "\n",
    "Salida de datos:\n",
    "* Número de vocales desglosado"
   ]
  },
  {
   "cell_type": "code",
   "execution_count": null,
   "metadata": {},
   "outputs": [],
   "source": [
    "# Ejercicio 4A"
   ]
  },
  {
   "attachments": {},
   "cell_type": "markdown",
   "metadata": {},
   "source": [
    "### Ejercicio 5A\n",
    "\n",
    "Escribe un programa que genere un número aleatorio. El usuario escribe números y el programa le responde si acertado y no acertado. Al no acertar debe indicarle si el número es menor o mayar.\n",
    "\n",
    "Entrada de datos:\n",
    "* Número\n",
    "\n",
    "Salida de datos:\n",
    "* Mensajes: has acertado; no has acertado, es menor; no has acertado es mayor"
   ]
  },
  {
   "cell_type": "code",
   "execution_count": null,
   "metadata": {},
   "outputs": [],
   "source": [
    "# EJERCICIO 5A\n",
    "import random\n",
    "\n",
    "numero1 = random.randint(1, 20)\n",
    "\n"
   ]
  },
  {
   "attachments": {},
   "cell_type": "markdown",
   "metadata": {},
   "source": [
    "### Ejercicio 6A\n",
    "\n",
    "Escribe una función que calcule el precio de una pizza.\n",
    "\n",
    "Entrada de datos:\n",
    "* Ingredientes + Cantidad del ingrediente (almacenar en listas)\n",
    "* FIN, la cofección de la pizza a finalizado\n",
    "\n",
    "Salida de datos:\n",
    "* Coste de las pizza desglosado"
   ]
  },
  {
   "cell_type": "code",
   "execution_count": null,
   "metadata": {},
   "outputs": [],
   "source": [
    "# Ejercicio 6A\n",
    "\n",
    "ingredientes = { \"Base\": 8.90, \"Pepperoni\": 0.50, \"Pollo\": 0.35, \"Carne\": 0.35, \"Pimiento\": 0.25, \"Cebolla\": 0.25, \"Champiñon\": 0.25, \"Aceituna\": 0.50, \"Piña\": 0.35, \"ExtraQueso\": 1 }\n"
   ]
  },
  {
   "attachments": {},
   "cell_type": "markdown",
   "metadata": {},
   "source": [
    "### Ejercicio 7A\n",
    "\n",
    "Escribe una función que calcule el interés de una inversion.\n",
    "\n",
    "\n",
    "Entrada de datos:\n",
    "* Importe total\n",
    "* Interés anual\n",
    "\n",
    "Salida de datos:\n",
    "* Importe invertido + beneficios a un día, un mes, un trimestre, un semestre y un año"
   ]
  },
  {
   "cell_type": "code",
   "execution_count": null,
   "metadata": {},
   "outputs": [],
   "source": [
    "# Ejercicio 7A\n"
   ]
  },
  {
   "attachments": {},
   "cell_type": "markdown",
   "metadata": {},
   "source": [
    "### Ejercicio 8A\n",
    "\n",
    "Escribe una función que indique los aciertos de una combinación de loteria primitiva.\n",
    "Una vez introducidos los datos se genera la combinación ganadora utilizando siguiente código:\n",
    "\n",
    "    import random\n",
    "    n = random.randint(1, 49)\n",
    "\n",
    "La combinación ganadora se compone de 6 números no iguales.\n",
    "\n",
    "Entrada de datos:\n",
    "* Introduce 6 número distintos entre 1 y 49\n",
    "\n",
    "Salida de datos:\n",
    "* Número de aciertos"
   ]
  },
  {
   "cell_type": "code",
   "execution_count": null,
   "metadata": {},
   "outputs": [],
   "source": [
    "# EJERCICIO 8A"
   ]
  },
  {
   "attachments": {},
   "cell_type": "markdown",
   "metadata": {},
   "source": [
    "### Ejercicio 9A\n",
    "\n",
    "Escribe un programa que muestre el nombre del día de la semana del cumpleaños del usuario desde su nacimiento hasta hoy.\n",
    "\n",
    "Entrada de datos:\n",
    "* Fecha de nacimiento\n",
    "\n",
    "Salida de datos:\n",
    "* Nombre del día de la semana de cada año"
   ]
  },
  {
   "cell_type": "code",
   "execution_count": null,
   "metadata": {},
   "outputs": [],
   "source": [
    "# EJERCICIO 9A"
   ]
  },
  {
   "attachments": {},
   "cell_type": "markdown",
   "metadata": {},
   "source": [
    "### Ejercicio 10A\n",
    "\n",
    "Escribe una función que pinte por pantalla un triangulo, cuadrado o circulo. Utiliza como máximo 10 sentencias print.\n",
    "\n",
    "Entrada de datos:\n",
    "* tipo de figura\n",
    "\n",
    "Salida de datos:\n",
    "* figura impresa"
   ]
  },
  {
   "cell_type": "code",
   "execution_count": null,
   "metadata": {},
   "outputs": [],
   "source": [
    "# EJERCICIO 10A"
   ]
  }
 ],
 "metadata": {
  "language_info": {
   "name": "python"
  },
  "orig_nbformat": 4
 },
 "nbformat": 4,
 "nbformat_minor": 2
}
